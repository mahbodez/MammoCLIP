{
 "cells": [
  {
   "cell_type": "code",
   "execution_count": null,
   "id": "d0c54c07",
   "metadata": {},
   "outputs": [],
   "source": [
    "import pandas as pd\n",
    "import numpy as np\n",
    "import os\n",
    "import matplotlib.pyplot as plt\n",
    "import seaborn as sns\n",
    "from torch.utils.data.sampler import WeightedRandomSampler\n"
   ]
  },
  {
   "cell_type": "code",
   "execution_count": null,
   "id": "92cde149",
   "metadata": {},
   "outputs": [],
   "source": [
    "df = pd.read_csv(\"./data/extracted_info.csv\")"
   ]
  },
  {
   "cell_type": "code",
   "execution_count": null,
   "id": "3f1300c3",
   "metadata": {},
   "outputs": [],
   "source": [
    "df.head()"
   ]
  },
  {
   "cell_type": "code",
   "execution_count": null,
   "id": "82fe499c",
   "metadata": {},
   "outputs": [],
   "source": [
    "def fill_nans_birads(row):\n",
    "    if pd.isna(row.right_birads) and pd.isna(row.left_birads):\n",
    "        return row\n",
    "    elif pd.isna(row.right_birads):\n",
    "        row.right_birads = -1\n",
    "        return row\n",
    "    elif pd.isna(row.left_birads):\n",
    "        row.left_birads = -1\n",
    "        return row\n",
    "    else:\n",
    "        return row"
   ]
  },
  {
   "cell_type": "code",
   "execution_count": null,
   "id": "fc8b5b99",
   "metadata": {},
   "outputs": [],
   "source": [
    "def fill_nans_calcifications(row):\n",
    "    if pd.notna(row.right_microcal) and pd.notna(row.left_microcal):\n",
    "        if row.right_microcal == -1:\n",
    "            row.right_microcal = 0\n",
    "        if row.left_microcal == -1:\n",
    "            row.left_microcal = 0\n",
    "    return row"
   ]
  },
  {
   "cell_type": "code",
   "execution_count": null,
   "id": "8aff024f",
   "metadata": {},
   "outputs": [],
   "source": [
    "def fill_nans_masses(row):\n",
    "    if pd.notna(row.right_mass) and pd.notna(row.left_mass):\n",
    "        if row.right_mass == -1:\n",
    "            row.right_mass = 0\n",
    "        if row.left_mass == -1:\n",
    "            row.left_mass = 0\n",
    "    return row"
   ]
  },
  {
   "cell_type": "code",
   "execution_count": null,
   "id": "9f58c5f1",
   "metadata": {},
   "outputs": [],
   "source": [
    "def any_mass(row):\n",
    "    if pd.notna(row.right_mass) and pd.notna(row.left_mass):\n",
    "        if row.right_mass == 1 or row.left_mass == 1:\n",
    "            return 1\n",
    "        else:\n",
    "            return 0\n",
    "    else:\n",
    "        return np.nan"
   ]
  },
  {
   "cell_type": "code",
   "execution_count": null,
   "id": "2b754459",
   "metadata": {},
   "outputs": [],
   "source": [
    "def any_calcification(row):\n",
    "    if pd.notna(row.right_microcal) and pd.notna(row.left_microcal):\n",
    "        if row.right_microcal == 1 or row.left_microcal == 1:\n",
    "            return 1\n",
    "        else:\n",
    "            return 0\n",
    "    else:\n",
    "        return np.nan"
   ]
  },
  {
   "cell_type": "code",
   "execution_count": null,
   "id": "29a9c27a",
   "metadata": {},
   "outputs": [],
   "source": [
    "def max_birads(row):\n",
    "    if pd.isna(row.left_birads) and pd.isna(row.right_birads):\n",
    "        return np.nan\n",
    "    elif pd.isna(row.left_birads):\n",
    "        return row.right_birads\n",
    "    elif pd.isna(row.right_birads):\n",
    "        return row.left_birads\n",
    "    else:\n",
    "        return max(row.left_birads, row.right_birads)"
   ]
  },
  {
   "cell_type": "code",
   "execution_count": null,
   "id": "2b90d686",
   "metadata": {},
   "outputs": [],
   "source": [
    "df.composition = df.composition.str.upper()"
   ]
  },
  {
   "cell_type": "code",
   "execution_count": null,
   "id": "0b458ac7",
   "metadata": {},
   "outputs": [],
   "source": [
    "df = df.apply(fill_nans_birads, axis=1)\n",
    "df = df.apply(fill_nans_calcifications, axis=1)\n",
    "df = df.apply(fill_nans_masses, axis=1)"
   ]
  },
  {
   "cell_type": "code",
   "execution_count": null,
   "id": "1c334ddc",
   "metadata": {},
   "outputs": [],
   "source": [
    "df[\"max_birads\"] = df.apply(max_birads, axis=1)\n",
    "df[\"any_mass\"] = df.apply(any_mass, axis=1)\n",
    "df[\"any_calcification\"] = df.apply(any_calcification, axis=1)\n",
    "\n",
    "# all are categorical\n",
    "df.composition = df.composition.astype(\"category\")\n",
    "df.max_birads = df.max_birads.astype(\"category\")\n",
    "df.any_mass = df.any_mass.astype(\"category\")\n",
    "df.any_calcification = df.any_calcification.astype(\"category\")"
   ]
  },
  {
   "cell_type": "code",
   "execution_count": null,
   "id": "e231bb1b",
   "metadata": {},
   "outputs": [],
   "source": [
    "df = df.dropna(how=\"any\", subset=[\"max_birads\", \"any_calcification\", \"composition\", \"any_mass\"])"
   ]
  },
  {
   "cell_type": "code",
   "execution_count": null,
   "id": "15fbf7ab",
   "metadata": {},
   "outputs": [],
   "source": [
    "len(df)"
   ]
  },
  {
   "cell_type": "code",
   "execution_count": null,
   "id": "72247de0",
   "metadata": {},
   "outputs": [],
   "source": [
    "# plot a heatmap of max_birads vs composition (both are categorical)\n",
    "def plot_heatmap(df, x_col, y_col, title):\n",
    "    df_grouped = df.groupby([x_col, y_col]).size().reset_index(name='counts')\n",
    "    df_pivot = df_grouped.pivot(index=x_col, columns=y_col, values='counts').fillna(0)\n",
    "    plt.figure(figsize=(6, 6))\n",
    "    sns.heatmap(df_pivot, annot=True, fmt=\",\", cmap=\"YlGnBu\")\n",
    "    plt.title(title)\n",
    "    plt.xlabel(y_col)\n",
    "    plt.ylabel(x_col)\n",
    "    plt.show()\n",
    "plot_heatmap(df, \"any_mass\", \"any_calcification\", \"2D Histogram of max_birads vs composition\")"
   ]
  },
  {
   "cell_type": "code",
   "execution_count": null,
   "id": "be2103b6",
   "metadata": {},
   "outputs": [],
   "source": [
    "def make_nd_pmf(df, cols: list[str]):\n",
    "    \"\"\"\n",
    "    Make an n-dimensional PMF from the specified columns in the dataframe.\n",
    "    Returns a dict mapping each combination of values to its probability.\n",
    "    \"\"\"\n",
    "    # count occurrences of each combination\n",
    "    counts = df.groupby(cols).size()\n",
    "    # normalize to get probabilities\n",
    "    pmf = counts / counts.sum()\n",
    "    # if only one column, return scalar-key dict\n",
    "    if len(cols) == 1:\n",
    "        return pmf.to_dict()\n",
    "    # else return tuple-key dict\n",
    "    return {tuple(idx): prob for idx, prob in pmf.items()}"
   ]
  },
  {
   "cell_type": "code",
   "execution_count": null,
   "id": "79c8c302",
   "metadata": {},
   "outputs": [],
   "source": [
    "def pmf_to_weight(\n",
    "    pmf: dict[tuple, float], \n",
    "    smoothing_factor: float = 0.00, \n",
    "    eps: float = 1e-6,\n",
    "    ignore_zero: bool = True\n",
    ") -> dict[tuple, float]:\n",
    "    \"\"\"\n",
    "    Convert a PMF to a weight dictionary.\n",
    "    The weights are the inverse of the probabilities.\n",
    "    The weights are normalized to sum to 1.\n",
    "    The weights are smoothed by adding a small constant to each weight.\n",
    "    if ignore_zero is True, the weights for zero probabilities are set to 0.\n",
    "    \"\"\"\n",
    "    total = sum(pmf.values())\n",
    "    weights = {k: (total / (v + eps)) for k, v in pmf.items()}\n",
    "\n",
    "    if ignore_zero:\n",
    "        weights = {k: w for k, w in weights.items() if pmf[k] > 0}\n",
    "\n",
    "    weights = {k: w / sum(weights.values()) for k, w in weights.items()}\n",
    "    weights = {k: w + smoothing_factor for k, w in weights.items()}\n",
    "    weights = {k: w / sum(weights.values()) for k, w in weights.items()}\n",
    "    return weights"
   ]
  },
  {
   "cell_type": "code",
   "execution_count": null,
   "id": "2e00918a",
   "metadata": {},
   "outputs": [],
   "source": [
    "def plot_2d_pmf(pmf: dict[tuple, float], title: str, captions: list[str] = None):\n",
    "    \"\"\"\n",
    "    Plot a 2D PMF as a heatmap.\n",
    "    \"\"\"\n",
    "    # convert to DataFrame\n",
    "    df = pd.DataFrame.from_dict(pmf, orient='index', columns=['prob'])\n",
    "    df.reset_index(inplace=True)\n",
    "    df[['x', 'y']] = pd.DataFrame(df['index'].tolist(), index=df.index)\n",
    "    df.drop(columns=['index'], inplace=True)\n",
    "\n",
    "    # pivot for heatmap\n",
    "    df_pivot = df.pivot(index='x', columns='y', values='prob')\n",
    "    \n",
    "    plt.figure(figsize=(8, 6))\n",
    "    sns.heatmap(df_pivot, annot=True, fmt=\".2f\", cmap=\"YlGnBu\")\n",
    "    plt.title(title)\n",
    "    if captions is None:\n",
    "        plt.xlabel('y')\n",
    "        plt.ylabel('x')\n",
    "    else:\n",
    "        plt.xlabel(captions[1])\n",
    "        plt.ylabel(captions[0])\n",
    "    plt.show()\n"
   ]
  },
  {
   "cell_type": "code",
   "execution_count": null,
   "id": "4300f94b",
   "metadata": {},
   "outputs": [],
   "source": [
    "pmf = make_nd_pmf(df, [\"any_mass\", \"any_calcification\"])"
   ]
  },
  {
   "cell_type": "code",
   "execution_count": null,
   "id": "484a49d4",
   "metadata": {},
   "outputs": [],
   "source": [
    "plot_2d_pmf(pmf, \"2D PMF of Mass and Composition\", captions=[\"Mass\", \"Calcification\"])"
   ]
  },
  {
   "cell_type": "code",
   "execution_count": null,
   "id": "81580cb6",
   "metadata": {},
   "outputs": [],
   "source": [
    "weights = pmf_to_weight(pmf, smoothing_factor=0.00)"
   ]
  },
  {
   "cell_type": "code",
   "execution_count": null,
   "id": "67633acc",
   "metadata": {},
   "outputs": [],
   "source": [
    "plot_2d_pmf(weights, \"2D Weights of Mass and Calcification\", captions=[\"Mass\", \"Calcification\"])"
   ]
  },
  {
   "cell_type": "code",
   "execution_count": null,
   "id": "e4825b82",
   "metadata": {},
   "outputs": [],
   "source": [
    "overall_pmf = make_nd_pmf(df, [\"any_mass\", \"any_calcification\", \"max_birads\", \"composition\"])"
   ]
  },
  {
   "cell_type": "code",
   "execution_count": null,
   "id": "5ed59c28",
   "metadata": {},
   "outputs": [],
   "source": [
    "overall_pmf"
   ]
  },
  {
   "cell_type": "code",
   "execution_count": null,
   "id": "4a89ad6f",
   "metadata": {},
   "outputs": [],
   "source": [
    "overall_weights = pmf_to_weight(overall_pmf)"
   ]
  },
  {
   "cell_type": "code",
   "execution_count": null,
   "id": "6f499dbd",
   "metadata": {},
   "outputs": [],
   "source": [
    "overall_weights"
   ]
  },
  {
   "cell_type": "code",
   "execution_count": null,
   "id": "2fdf72c4",
   "metadata": {},
   "outputs": [],
   "source": [
    "def apply_weights(row, weights_dict):\n",
    "    \"\"\"\n",
    "    Apply weights to a row based on the values in the row.\n",
    "    The weights are taken from the weights_dict.\n",
    "    \"\"\"\n",
    "    key = (row[\"any_mass\"], row[\"any_calcification\"], row[\"max_birads\"], row[\"composition\"])\n",
    "    if key in weights_dict:\n",
    "        return weights_dict[key]\n",
    "    else:\n",
    "        return 0.0"
   ]
  },
  {
   "cell_type": "code",
   "execution_count": null,
   "id": "a4087770",
   "metadata": {},
   "outputs": [],
   "source": [
    "df[\"weight\"] = df.apply(lambda row: apply_weights(row, overall_weights), axis=1)"
   ]
  },
  {
   "cell_type": "code",
   "execution_count": null,
   "id": "36d2354a",
   "metadata": {},
   "outputs": [],
   "source": [
    "sampler = WeightedRandomSampler(\n",
    "    weights=df[\"weight\"].values,\n",
    "    num_samples=len(df),\n",
    "    replacement=True,\n",
    ")"
   ]
  },
  {
   "cell_type": "code",
   "execution_count": null,
   "id": "3a4bb0eb",
   "metadata": {},
   "outputs": [],
   "source": [
    "sample = list(iter(sampler))  # check that the sampler is working"
   ]
  },
  {
   "cell_type": "code",
   "execution_count": null,
   "id": "389f7a82",
   "metadata": {},
   "outputs": [],
   "source": [
    "df_sample = df.iloc[sample]"
   ]
  },
  {
   "cell_type": "code",
   "execution_count": null,
   "id": "07c69414",
   "metadata": {},
   "outputs": [],
   "source": [
    "plot_heatmap(df_sample, \"max_birads\", \"composition\", \"2D Histogram of max_birads vs composition (sampled)\")"
   ]
  },
  {
   "cell_type": "code",
   "execution_count": null,
   "id": "73197f95",
   "metadata": {},
   "outputs": [],
   "source": [
    "plot_heatmap(df_sample, \"any_mass\", \"any_calcification\", \"2D Histogram of Mass vs Calcification (Sampled)\")"
   ]
  },
  {
   "cell_type": "code",
   "execution_count": null,
   "id": "34d72085",
   "metadata": {},
   "outputs": [],
   "source": [
    "complete_df = pd.read_csv(\"./data/complete-mammo02.csv\")"
   ]
  },
  {
   "cell_type": "code",
   "execution_count": null,
   "id": "469e7987",
   "metadata": {},
   "outputs": [],
   "source": [
    "df = df.sort_values(by=\"id\").reset_index(drop=True)\n",
    "complete_df = complete_df.sort_values(by=\"id\").reset_index(drop=True)"
   ]
  },
  {
   "cell_type": "code",
   "execution_count": null,
   "id": "51ddf49d",
   "metadata": {},
   "outputs": [],
   "source": [
    "len(df), len(complete_df)"
   ]
  },
  {
   "cell_type": "code",
   "execution_count": null,
   "id": "695bf2dc",
   "metadata": {},
   "outputs": [],
   "source": [
    "# merge the two dataframes using \"id\" as the key and the column \"weight\" from df to complete_df\n",
    "complete_df = complete_df.merge(df[[\"id\", \"weight\"]], on=\"id\", how=\"left\")"
   ]
  }
 ],
 "metadata": {
  "kernelspec": {
   "display_name": "base",
   "language": "python",
   "name": "python3"
  },
  "language_info": {
   "codemirror_mode": {
    "name": "ipython",
    "version": 3
   },
   "file_extension": ".py",
   "mimetype": "text/x-python",
   "name": "python",
   "nbconvert_exporter": "python",
   "pygments_lexer": "ipython3",
   "version": "3.11.8"
  }
 },
 "nbformat": 4,
 "nbformat_minor": 5
}
