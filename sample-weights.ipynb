{
 "cells": [
  {
   "cell_type": "code",
   "execution_count": 40,
   "id": "d0c54c07",
   "metadata": {},
   "outputs": [],
   "source": [
    "import pandas as pd\n",
    "import numpy as np\n",
    "import os\n",
    "from torch.utils.data import DataLoader, WeightedRandomSampler, Dataset\n",
    "import matplotlib.pyplot as plt\n",
    "import seaborn as sns\n",
    "import yaml"
   ]
  },
  {
   "cell_type": "code",
   "execution_count": 41,
   "id": "615e2ad8",
   "metadata": {},
   "outputs": [],
   "source": [
    "def softmax(x, axis=0):\n",
    "    \"\"\"Compute softmax values for each sets of scores in x.\"\"\"\n",
    "    e_x = np.exp(x - np.max(x, axis=axis, keepdims=True))\n",
    "    return e_x / e_x.sum(axis=axis, keepdims=True)"
   ]
  },
  {
   "cell_type": "code",
   "execution_count": 42,
   "id": "92cde149",
   "metadata": {},
   "outputs": [],
   "source": [
    "df = pd.read_csv(\"./data/extracted_info.csv\")"
   ]
  },
  {
   "cell_type": "code",
   "execution_count": 43,
   "id": "82fe499c",
   "metadata": {},
   "outputs": [],
   "source": [
    "def fill_nans(row):\n",
    "    if pd.isna(row.right_birads) and pd.isna(row.left_birads):\n",
    "        return row\n",
    "    elif pd.isna(row.right_birads):\n",
    "        row.right_birads = -1\n",
    "        return row\n",
    "    elif pd.isna(row.left_birads):\n",
    "        row.left_birads = -1\n",
    "        return row\n",
    "    else:\n",
    "        return row"
   ]
  },
  {
   "cell_type": "code",
   "execution_count": 44,
   "id": "29a9c27a",
   "metadata": {},
   "outputs": [],
   "source": [
    "def max_birads(row):\n",
    "    if pd.isna(row.left_birads) and pd.isna(row.right_birads):\n",
    "        return np.nan\n",
    "    elif pd.isna(row.left_birads):\n",
    "        return row.right_birads\n",
    "    elif pd.isna(row.right_birads):\n",
    "        return row.left_birads\n",
    "    else:\n",
    "        return max(row.left_birads, row.right_birads)"
   ]
  },
  {
   "cell_type": "code",
   "execution_count": 45,
   "id": "0b458ac7",
   "metadata": {},
   "outputs": [],
   "source": [
    "df = df.apply(fill_nans, axis=1)"
   ]
  },
  {
   "cell_type": "code",
   "execution_count": 46,
   "id": "1c334ddc",
   "metadata": {},
   "outputs": [],
   "source": [
    "df[\"max_birads\"] = df.apply(max_birads, axis=1)"
   ]
  },
  {
   "cell_type": "code",
   "execution_count": 47,
   "id": "e231bb1b",
   "metadata": {},
   "outputs": [],
   "source": [
    "df = df.dropna(how=\"any\", subset=[\"max_birads\"])\n",
    "df.max_birads = df.max_birads.astype(int)"
   ]
  },
  {
   "cell_type": "code",
   "execution_count": 48,
   "id": "15fbf7ab",
   "metadata": {},
   "outputs": [
    {
     "data": {
      "text/plain": [
       "13953"
      ]
     },
     "execution_count": 48,
     "metadata": {},
     "output_type": "execute_result"
    }
   ],
   "source": [
    "len(df)"
   ]
  },
  {
   "cell_type": "code",
   "execution_count": 49,
   "id": "df84af64",
   "metadata": {},
   "outputs": [],
   "source": [
    "# calculate the frequency of each class (normalized)\n",
    "class_counts = df[\"max_birads\"].value_counts(normalize=True).sort_index()"
   ]
  },
  {
   "cell_type": "code",
   "execution_count": 50,
   "id": "3052479a",
   "metadata": {},
   "outputs": [],
   "source": [
    "# calculate the weights for each class\n",
    "class_weights = 1.0 / class_counts\n"
   ]
  },
  {
   "cell_type": "code",
   "execution_count": 51,
   "id": "f48a7b43",
   "metadata": {},
   "outputs": [],
   "source": [
    "class_weights /= class_weights.sum()\n",
    "class_weights += .01\n",
    "class_weights /= class_weights.sum()"
   ]
  },
  {
   "cell_type": "code",
   "execution_count": 52,
   "id": "be4ce4d4",
   "metadata": {},
   "outputs": [
    {
     "data": {
      "image/png": "[encoded data removed]",
      "text/plain": [
       "<Figure size 800x400 with 2 Axes>"
      ]
     },
     "metadata": {},
     "output_type": "display_data"
    }
   ],
   "source": [
    "# compute the expected frequency of each class after weighting\n",
    "expected_freq = class_weights * class_counts\n",
    "expected_freq /= expected_freq.sum()\n",
    "fig, axes = plt.subplots(1, 2, figsize=(8, 4), sharey=True)\n",
    "\n",
    "# Original Class Distribution\n",
    "df.max_birads.value_counts(normalize=True).sort_index().plot(\n",
    "    kind=\"bar\", color=\"green\", alpha=0.5, ax=axes[0]\n",
    ")\n",
    "axes[0].set_title(\"Original Class Distribution\")\n",
    "\n",
    "# Expected Class Distribution\n",
    "expected_freq.plot(kind=\"bar\", color=\"red\", alpha=0.5, ax=axes[1])\n",
    "axes[1].set_title(\"Expected Class Distribution (after weighting)\")\n",
    "\n",
    "plt.tight_layout()\n",
    "plt.show()"
   ]
  },
  {
   "cell_type": "code",
   "execution_count": 53,
   "id": "69c8a924",
   "metadata": {},
   "outputs": [
    {
     "name": "stdout",
     "output_type": "stream",
     "text": [
      "{-1: 0.73, 0: 0.34, 1: 0.34, 2: 0.17, 3: 1.27, 4: 1.67, 5: 3.58, 6: 3.76}\n"
     ]
    }
   ],
   "source": [
    "birads2weight = (class_weights/class_weights.median()).to_dict()\n",
    "birads2weight = {int(k): round(v, 2) for k, v in birads2weight.items()}\n",
    "print(birads2weight)"
   ]
  },
  {
   "cell_type": "code",
   "execution_count": 54,
   "id": "2fdf72c4",
   "metadata": {},
   "outputs": [],
   "source": [
    "df[\"weight\"] = df.apply(\n",
    "    lambda x: birads2weight[x[\"max_birads\"]] if pd.notna(x[\"max_birads\"]) else birads2weight[-1], axis=1\n",
    ")"
   ]
  },
  {
   "cell_type": "code",
   "execution_count": 55,
   "id": "36d2354a",
   "metadata": {},
   "outputs": [],
   "source": [
    "sampler = WeightedRandomSampler(\n",
    "    weights=df[\"weight\"].values,\n",
    "    num_samples=len(df),\n",
    "    replacement=True,\n",
    ")"
   ]
  },
  {
   "cell_type": "code",
   "execution_count": 56,
   "id": "3a4bb0eb",
   "metadata": {},
   "outputs": [],
   "source": [
    "sample = list(iter(sampler))  # check that the sampler is working"
   ]
  },
  {
   "cell_type": "code",
   "execution_count": 57,
   "id": "f23a0f8d",
   "metadata": {},
   "outputs": [
    {
     "data": {
      "image/png": "[encoded data removed]",
      "text/plain": [
       "<Figure size 640x480 with 1 Axes>"
      ]
     },
     "metadata": {},
     "output_type": "display_data"
    }
   ],
   "source": [
    "sns.histplot(df.max_birads.astype(int), stat=\"count\", discrete=True, label=\"original\", alpha=0.5, color=\"black\")\n",
    "sns.histplot(df.max_birads.iloc[sample].astype(int), stat=\"count\", discrete=True, label=\"sampled\", alpha=0.5, color=\"red\")\n",
    "plt.legend()\n",
    "plt.title(\"Sampled vs Original Class Distribution\")\n",
    "plt.show()"
   ]
  },
  {
   "cell_type": "code",
   "execution_count": 58,
   "id": "34d72085",
   "metadata": {},
   "outputs": [],
   "source": [
    "complete_df = pd.read_csv(\"./data/complete-mammo.csv\")"
   ]
  },
  {
   "cell_type": "code",
   "execution_count": 59,
   "id": "469e7987",
   "metadata": {},
   "outputs": [],
   "source": [
    "df = df.sort_values(by=\"id\").reset_index(drop=True)\n",
    "complete_df = complete_df.sort_values(by=\"id\").reset_index(drop=True)"
   ]
  },
  {
   "cell_type": "code",
   "execution_count": 60,
   "id": "51ddf49d",
   "metadata": {},
   "outputs": [
    {
     "data": {
      "text/plain": [
       "(13953, 19874)"
      ]
     },
     "execution_count": 60,
     "metadata": {},
     "output_type": "execute_result"
    }
   ],
   "source": [
    "len(df), len(complete_df)"
   ]
  },
  {
   "cell_type": "code",
   "execution_count": 61,
   "id": "695bf2dc",
   "metadata": {},
   "outputs": [],
   "source": [
    "# merge the two dataframes using \"id\" as the key and the column \"weight\" from df to complete_df\n",
    "complete_df = complete_df.merge(df[[\"id\", \"weight\"]], on=\"id\", how=\"left\")"
   ]
  }
 ],
 "metadata": {
  "kernelspec": {
   "display_name": "base",
   "language": "python",
   "name": "python3"
  },
  "language_info": {
   "codemirror_mode": {
    "name": "ipython",
    "version": 3
   },
   "file_extension": ".py",
   "mimetype": "text/x-python",
   "name": "python",
   "nbconvert_exporter": "python",
   "pygments_lexer": "ipython3",
   "version": "3.11.8"
  }
 },
 "nbformat": 4,
 "nbformat_minor": 5
}
