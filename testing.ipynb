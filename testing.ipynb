{
 "cells": [
  {
   "cell_type": "code",
   "execution_count": 1,
   "id": "d3efb313",
   "metadata": {},
   "outputs": [],
   "source": [
    "from transformers import (\n",
    "    AutoTokenizer,\n",
    "    BertTokenizerFast,\n",
    ")\n",
    "from custom.model import MammoCLIP\n",
    "from custom.mammodata import MammogramDataset, MammogramPreprocessor, MammogramTransform\n",
    "from custom.config import Config\n",
    "import torch\n",
    "import os\n",
    "import pandas as pd\n",
    "from torch.utils.data import DataLoader, WeightedRandomSampler\n",
    "import matplotlib.pyplot as plt\n",
    "import seaborn as sns\n",
    "from richtqdm import RichTqdm\n",
    "import numpy as np\n",
    "from utils.freezer import freeze_submodules"
   ]
  },
  {
   "cell_type": "code",
   "execution_count": 2,
   "id": "b16b0c35",
   "metadata": {},
   "outputs": [],
   "source": [
    "project_dir = \"./mammoclip-v1\"\n",
    "csv_path = \"./data/essential-mammo.csv\""
   ]
  },
  {
   "cell_type": "code",
   "execution_count": null,
   "id": "7bf73bd5",
   "metadata": {},
   "outputs": [],
   "source": [
    "cfg = Config.from_yaml(\"./ref-config.yaml\")\n",
    "# cfg.to_yaml(\"./ref-config.yaml\")"
   ]
  },
  {
   "cell_type": "code",
   "execution_count": 4,
   "id": "5b89188d",
   "metadata": {},
   "outputs": [],
   "source": [
    "\n",
    "from utils.data_utils import prepare_dataloaders\n",
    "\n",
    "train_dl, val_dl, *_ = prepare_dataloaders(cfg, False)\n",
    "train_dl.dataset.clear_cache()"
   ]
  },
  {
   "cell_type": "code",
   "execution_count": 5,
   "id": "391db27e",
   "metadata": {},
   "outputs": [],
   "source": [
    "@torch.no_grad()\n",
    "def find_mean_std(dataloader: DataLoader, num_samples: int = 100):\n",
    "    mean_sum = 0\n",
    "    std_sum = 0\n",
    "    running_mean = []\n",
    "    running_std = []\n",
    "    n_samples = 0\n",
    "    for sample in (pbar := RichTqdm(dataloader, total=num_samples//dataloader.batch_size)):\n",
    "        batch_samples = sample.input_ids.shape[0]\n",
    "        images = sample.pixel_values\n",
    "        \n",
    "        images = images.view(batch_samples, -1)\n",
    "        \n",
    "        mean_sum += images.mean(1).sum().item()\n",
    "        std_sum += images.std(1).sum().item()\n",
    "        n_samples += batch_samples\n",
    "        \n",
    "        running_mean.append(mean_sum / n_samples)  \n",
    "        running_std.append(std_sum / n_samples)    \n",
    "        \n",
    "        pbar.set_description(desc=f\"Mean: {running_mean[-1]:.4f}, Std: {running_std[-1]:.4f}\")\n",
    "        \n",
    "        if n_samples >= num_samples:\n",
    "            break\n",
    "    return running_mean, running_std"
   ]
  },
  {
   "cell_type": "code",
   "execution_count": 6,
   "id": "c2311c99",
   "metadata": {},
   "outputs": [],
   "source": [
    "def find_and_plot_meanstd(dl: DataLoader, num_samples: int = 400):\n",
    "    rmean, rstd = find_mean_std(dl, num_samples)\n",
    "    sns.lineplot(rmean, label=\"Running Mean\")\n",
    "    sns.lineplot(rstd, label=\"Running Std\")\n",
    "    plt.hlines(rmean[-1], 0, len(rmean), colors='r', linestyles='dashed', label=f\"Final Mean: {rmean[-1]:.3f}\", alpha=0.5)\n",
    "    plt.hlines(rstd[-1], 0, len(rstd), colors='g', linestyles='dashed', label=f\"Final Std: {rstd[-1]:.3f}\", alpha=0.5)\n",
    "    plt.legend()\n",
    "    plt.grid()\n",
    "    plt.title(\"Running Mean and Std\")\n",
    "    plt.xlabel(\"Batch Number\")\n",
    "    plt.ylabel(\"Value\")\n",
    "    plt.tight_layout()\n",
    "    plt.show()"
   ]
  },
  {
   "cell_type": "code",
   "execution_count": 7,
   "id": "dab1368d",
   "metadata": {},
   "outputs": [],
   "source": [
    "# load a sample\n",
    "sample = next(iter(train_dl))"
   ]
  },
  {
   "cell_type": "code",
   "execution_count": 8,
   "id": "f18f9f64",
   "metadata": {},
   "outputs": [
    {
     "data": {
      "text/plain": [
       "(torch.Size([8, 4, 518, 518]), torch.Size([8, 256]))"
      ]
     },
     "execution_count": 8,
     "metadata": {},
     "output_type": "execute_result"
    }
   ],
   "source": [
    "sample[\"pixel_values\"].shape, sample[\"input_ids\"].shape"
   ]
  },
  {
   "cell_type": "code",
   "execution_count": 9,
   "id": "0aefc173",
   "metadata": {},
   "outputs": [
    {
     "data": {
      "text/plain": [
       "tensor([    2,  7888,  3488,  3698,  1752,  3111,    16,  4877,  1708,  3488,\n",
       "         4894,    45,    18, 11854, 24317, 10966,  1823,  2161,  1690,  2099,\n",
       "        25500,    18,  2075,  4421,  1823,  2972,  1690,  1689,  2354, 10476,\n",
       "         6675,  5356,  1690,  1689,  3802,  8465, 11787,  1694,  1689,  2354,\n",
       "         3488,    18,  1689,  2726,  1752,  2113,    17, 24495,  9395,    26,\n",
       "           18,     3,     0,     0,     0,     0,     0,     0,     0,     0,\n",
       "            0,     0,     0,     0,     0,     0,     0,     0,     0,     0,\n",
       "            0,     0,     0,     0,     0,     0,     0,     0,     0,     0,\n",
       "            0,     0,     0,     0,     0,     0,     0,     0,     0,     0,\n",
       "            0,     0,     0,     0,     0,     0,     0,     0,     0,     0,\n",
       "            0,     0,     0,     0,     0,     0,     0,     0,     0,     0,\n",
       "            0,     0,     0,     0,     0,     0,     0,     0,     0,     0,\n",
       "            0,     0,     0,     0,     0,     0,     0,     0,     0,     0,\n",
       "            0,     0,     0,     0,     0,     0,     0,     0,     0,     0,\n",
       "            0,     0,     0,     0,     0,     0,     0,     0,     0,     0,\n",
       "            0,     0,     0,     0,     0,     0,     0,     0,     0,     0,\n",
       "            0,     0,     0,     0,     0,     0,     0,     0,     0,     0,\n",
       "            0,     0,     0,     0,     0,     0,     0,     0,     0,     0,\n",
       "            0,     0,     0,     0,     0,     0,     0,     0,     0,     0,\n",
       "            0,     0,     0,     0,     0,     0,     0,     0,     0,     0,\n",
       "            0,     0,     0,     0,     0,     0,     0,     0,     0,     0,\n",
       "            0,     0,     0,     0,     0,     0,     0,     0,     0,     0,\n",
       "            0,     0,     0,     0,     0,     0,     0,     0,     0,     0,\n",
       "            0,     0,     0,     0,     0,     0,     0,     0,     0,     0,\n",
       "            0,     0,     0,     0,     0,     0,     0,     0,     0,     0,\n",
       "            0,     0,     0,     0,     0,     0])"
      ]
     },
     "execution_count": 9,
     "metadata": {},
     "output_type": "execute_result"
    }
   ],
   "source": [
    "sample[\"input_ids\"][3]"
   ]
  },
  {
   "cell_type": "code",
   "execution_count": null,
   "id": "24363bae",
   "metadata": {},
   "outputs": [
    {
     "data": {
      "application/vnd.jupyter.widget-view+json": {
       "model_id": "644b19f294684e6a9e7af011b38e0fe5",
       "version_major": 2,
       "version_minor": 0
      },
      "text/plain": [
       "interactive(children=(IntSlider(value=3, description='idx', max=7), Output()), _dom_classes=('widget-interact'…"
      ]
     },
     "metadata": {},
     "output_type": "display_data"
    },
    {
     "data": {
      "text/plain": [
       "<function __main__.show_views(idx)>"
      ]
     },
     "execution_count": 10,
     "metadata": {},
     "output_type": "execute_result"
    }
   ],
   "source": [
    "from ipywidgets import interact, IntSlider\n",
    "\n",
    "def show_views(idx):\n",
    "    fig, axs = plt.subplots(1, 4, figsize=(20, 5))\n",
    "    for i in range(4):\n",
    "        axs[i].imshow(sample.pixel_values[idx][i], cmap=\"gray\", \n",
    "                      vmin=sample.pixel_values[idx][i].min(), \n",
    "                      vmax=sample.pixel_values[idx][i].max())\n",
    "        axs[i].axis(\"off\")\n",
    "    axs[0].set_title(\"Right CC\")\n",
    "    axs[1].set_title(\"Left CC\")\n",
    "    axs[2].set_title(\"Right MLO\")\n",
    "    axs[3].set_title(\"Left MLO\")\n",
    "    plt.tight_layout()\n",
    "    plt.show()\n",
    "\n",
    "interact(show_views, idx=IntSlider(min=0, max=sample.pixel_values.shape[0]-1, step=1, value=3))"
   ]
  },
  {
   "cell_type": "code",
   "execution_count": 10,
   "id": "156b8388",
   "metadata": {},
   "outputs": [
    {
     "name": "stderr",
     "output_type": "stream",
     "text": [
      "The projection layer and logit scale weights `['visual_projection.weight', 'text_projection.weight', 'logit_scale']` are newly initialized. You should probably TRAIN this model on a down-stream task to be able to use it for predictions and inference.\n"
     ]
    },
    {
     "name": "stdout",
     "output_type": "stream",
     "text": [
      "Model initialized with 4 views.\n"
     ]
    }
   ],
   "source": [
    "model = MammoCLIP.from_vision_text_pretrained(\n",
    "    \"microsoft/rad-dino\", \"microsoft/BiomedVLP-CXR-BERT-general\", num_views=4, verbose=True\n",
    ")"
   ]
  },
  {
   "cell_type": "code",
   "execution_count": 11,
   "id": "6f18aeda",
   "metadata": {},
   "outputs": [
    {
     "name": "stdout",
     "output_type": "stream",
     "text": [
      "fusion_layer.weight torch.Size([768, 3072])\n",
      "fusion_embedding.view_embed.weight torch.Size([4, 768])\n"
     ]
    }
   ],
   "source": [
    "for name, param in model.named_parameters():\n",
    "    if name.startswith(\"fusion_\"):\n",
    "        print(name, param.shape)"
   ]
  },
  {
   "cell_type": "code",
   "execution_count": 29,
   "id": "c6cfa91e",
   "metadata": {},
   "outputs": [
    {
     "name": "stdout",
     "output_type": "stream",
     "text": [
      "Processing images with shape: torch.Size([8, 4, 518, 518]) (bs, c, h, w)\n",
      "Stacked images shape: torch.Size([8, 4, 768]), Embedded images shape: torch.Size([8, 4, 768])\n",
      "Fused embedding shape: torch.Size([8, 768])\n"
     ]
    }
   ],
   "source": [
    "with torch.inference_mode():\n",
    "    outputs = model(\n",
    "        **sample,\n",
    "        return_loss=True,\n",
    "    )"
   ]
  },
  {
   "cell_type": "code",
   "execution_count": 30,
   "id": "66f01722",
   "metadata": {},
   "outputs": [],
   "source": [
    "loss, logits_per_image, logits_per_text = outputs.loss, outputs.logits_per_image, outputs.logits_per_text"
   ]
  },
  {
   "cell_type": "code",
   "execution_count": 31,
   "id": "22ea2000",
   "metadata": {},
   "outputs": [
    {
     "name": "stdout",
     "output_type": "stream",
     "text": [
      "Contrastive training loss: nan\n"
     ]
    }
   ],
   "source": [
    "print(\"Contrastive training loss:\", loss.item())"
   ]
  },
  {
   "cell_type": "code",
   "execution_count": 32,
   "id": "e0d43c46",
   "metadata": {},
   "outputs": [
    {
     "name": "stdout",
     "output_type": "stream",
     "text": [
      "Logits per image:\n",
      " tensor([[ 0.5033,  0.1331,  0.4242,  0.4051,  0.0191,  0.6092,  0.2131,  0.5910],\n",
      "        [    nan,     nan,     nan,     nan,     nan,     nan,     nan,     nan],\n",
      "        [-0.1460, -0.3456, -0.1795, -0.2447, -0.4282,  0.0412, -0.3095,  0.0706],\n",
      "        [    nan,     nan,     nan,     nan,     nan,     nan,     nan,     nan],\n",
      "        [ 0.2221,  0.0721,  0.2440,  0.3511,  0.0356,  0.4114,  0.1791,  0.3968],\n",
      "        [ 0.0976, -0.2267,  0.0433,  0.1145, -0.2630,  0.2004,  0.1130,  0.2250],\n",
      "        [    nan,     nan,     nan,     nan,     nan,     nan,     nan,     nan],\n",
      "        [    nan,     nan,     nan,     nan,     nan,     nan,     nan,     nan]])\n"
     ]
    }
   ],
   "source": [
    "print(\"Logits per image:\\n\", logits_per_image)"
   ]
  },
  {
   "cell_type": "code",
   "execution_count": 16,
   "id": "c0ccc3d7",
   "metadata": {},
   "outputs": [
    {
     "name": "stdout",
     "output_type": "stream",
     "text": [
      "Logits per text:\n",
      " tensor([[    nan,  0.5146,  0.6435,  0.6314,  0.0463,     nan,     nan,  0.2129],\n",
      "        [    nan,  0.5126,  0.4348,  0.5175,  0.1133,     nan,     nan,  0.4050],\n",
      "        [    nan,  0.2530,  0.2976,  0.3432, -0.0249,     nan,     nan,  0.2445],\n",
      "        [    nan,  0.2117,  0.0891,  0.2185, -0.2962,     nan,     nan, -0.0189],\n",
      "        [    nan, -0.0977, -0.0705, -0.1786, -0.5466,     nan,     nan, -0.1973],\n",
      "        [    nan,  0.2866,  0.4621,  0.5297,  0.1702,     nan,     nan,  0.3281],\n",
      "        [    nan,  0.2809,  0.5455,  0.4325,  0.1728,     nan,     nan,  0.4633],\n",
      "        [    nan,  0.4454,  0.5335,  0.5962,  0.2330,     nan,     nan,  0.3298]])\n"
     ]
    }
   ],
   "source": [
    "print(\"Logits per text:\\n\", logits_per_text)"
   ]
  },
  {
   "cell_type": "code",
   "execution_count": 23,
   "id": "b65b50fe",
   "metadata": {},
   "outputs": [
    {
     "data": {
      "image/png": "[encoded data removed]",
      "text/plain": [
       "<Figure size 640x480 with 1 Axes>"
      ]
     },
     "metadata": {},
     "output_type": "display_data"
    }
   ],
   "source": [
    "sns.histplot(sample.pixel_values.flatten(), bins=50, kde=True, stat=\"density\")\n",
    "plt.show()"
   ]
  },
  {
   "cell_type": "code",
   "execution_count": 24,
   "id": "7039884e",
   "metadata": {},
   "outputs": [
    {
     "name": "stdout",
     "output_type": "stream",
     "text": [
      "vision_fused_attn.attention_net.0.weight tensor([[-0.0221, -0.0294, -0.0260,  ...,  0.0360, -0.0063, -0.0298],\n",
      "        [-0.0214,  0.0135,  0.0173,  ..., -0.0121,  0.0135,  0.0147],\n",
      "        [-0.0305, -0.0323,  0.0331,  ..., -0.0123, -0.0120, -0.0050],\n",
      "        ...,\n",
      "        [ 0.0074, -0.0341, -0.0215,  ..., -0.0227,  0.0271, -0.0280],\n",
      "        [ 0.0164, -0.0182,  0.0209,  ...,  0.0122, -0.0297,  0.0154],\n",
      "        [-0.0209,  0.0117, -0.0048,  ..., -0.0127, -0.0226,  0.0150]])\n"
     ]
    }
   ],
   "source": [
    "# read the parameters to check\n",
    "for name, param in model.named_parameters():\n",
    "    if name == \"vision_fused_attn.attention_net.0.weight\":\n",
    "        print(name, param.data)\n",
    "        break"
   ]
  },
  {
   "cell_type": "code",
   "execution_count": 25,
   "id": "732c9c07",
   "metadata": {},
   "outputs": [],
   "source": [
    "model.save_pretrained(\"./mammoclip-model\")"
   ]
  },
  {
   "cell_type": "code",
   "execution_count": 26,
   "id": "70e09d0c",
   "metadata": {},
   "outputs": [
    {
     "name": "stderr",
     "output_type": "stream",
     "text": [
      "You are using a model of type mammo_clip to instantiate a model of type vision-text-dual-encoder. This is not supported for all configurations of models and can yield errors.\n"
     ]
    }
   ],
   "source": [
    "model = MammoCLIP.from_pretrained(\"./mammoclip-model\")"
   ]
  },
  {
   "cell_type": "code",
   "execution_count": 27,
   "id": "554f982e",
   "metadata": {},
   "outputs": [
    {
     "name": "stdout",
     "output_type": "stream",
     "text": [
      "vision_fused_attn.attention_net.0.weight tensor([[-0.0221, -0.0294, -0.0260,  ...,  0.0360, -0.0063, -0.0298],\n",
      "        [-0.0214,  0.0135,  0.0173,  ..., -0.0121,  0.0135,  0.0147],\n",
      "        [-0.0305, -0.0323,  0.0331,  ..., -0.0123, -0.0120, -0.0050],\n",
      "        ...,\n",
      "        [ 0.0074, -0.0341, -0.0215,  ..., -0.0227,  0.0271, -0.0280],\n",
      "        [ 0.0164, -0.0182,  0.0209,  ...,  0.0122, -0.0297,  0.0154],\n",
      "        [-0.0209,  0.0117, -0.0048,  ..., -0.0127, -0.0226,  0.0150]])\n"
     ]
    }
   ],
   "source": [
    "# read the parameters to check\n",
    "for name, param in model.named_parameters():\n",
    "    if name == \"vision_fused_attn.attention_net.0.weight\":\n",
    "        print(name, param.data)\n",
    "        break"
   ]
  },
  {
   "cell_type": "code",
   "execution_count": 28,
   "id": "e11f0cc1",
   "metadata": {},
   "outputs": [
    {
     "name": "stdout",
     "output_type": "stream",
     "text": [
      "number of parameters: 197,147,906\n"
     ]
    }
   ],
   "source": [
    "print(f\"number of parameters: {sum(p.numel() for p in model.parameters()):,}\")"
   ]
  }
 ],
 "metadata": {
  "kernelspec": {
   "display_name": "base",
   "language": "python",
   "name": "python3"
  },
  "language_info": {
   "codemirror_mode": {
    "name": "ipython",
    "version": 3
   },
   "file_extension": ".py",
   "mimetype": "text/x-python",
   "name": "python",
   "nbconvert_exporter": "python",
   "pygments_lexer": "ipython3",
   "version": "3.11.8"
  }
 },
 "nbformat": 4,
 "nbformat_minor": 5
}
