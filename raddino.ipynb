{
 "cells": [
  {
   "cell_type": "code",
   "execution_count": 1,
   "id": "ea5a04a9",
   "metadata": {},
   "outputs": [],
   "source": [
    "import torch\n",
    "from transformers import AutoModel\n",
    "from transformers import AutoImageProcessor\n",
    "import numpy as np\n",
    "from PIL import Image\n",
    "from mammodata import MammogramPreprocessor\n",
    "import seaborn as sns\n",
    "import matplotlib.pyplot as plt"
   ]
  },
  {
   "cell_type": "code",
   "execution_count": 2,
   "id": "2c3b6373",
   "metadata": {},
   "outputs": [
    {
     "name": "stderr",
     "output_type": "stream",
     "text": [
      "Using a slow image processor as `use_fast` is unset and a slow processor was saved with this model. `use_fast=True` will be the default behavior in v4.52, even if the model was saved with a slow processor. This will result in minor differences in outputs. You'll still be able to use a slow processor with `use_fast=False`.\n"
     ]
    },
    {
     "data": {
      "text/plain": [
       "{'_processor_class': None,\n",
       " 'image_processor_type': 'BitImageProcessor',\n",
       " 'do_resize': True,\n",
       " 'size': {'shortest_edge': 518},\n",
       " 'resample': 3,\n",
       " 'do_center_crop': True,\n",
       " 'crop_size': {'height': 518, 'width': 518},\n",
       " 'do_rescale': True,\n",
       " 'rescale_factor': 0.00392156862745098,\n",
       " 'do_normalize': True,\n",
       " 'image_mean': [0.5307, 0.5307, 0.5307],\n",
       " 'image_std': [0.2583, 0.2583, 0.2583],\n",
       " 'do_convert_rgb': True}"
      ]
     },
     "execution_count": 2,
     "metadata": {},
     "output_type": "execute_result"
    }
   ],
   "source": [
    "\n",
    "# Download the model\n",
    "repo = \"microsoft/rad-dino\"\n",
    "model = AutoModel.from_pretrained(repo)\n",
    "# The processor takes a PIL image, performs resizing, center-cropping, and\n",
    "# intensity normalization using stats from MIMIC-CXR, and returns a\n",
    "# dictionary with a PyTorch tensor ready for the encoder\n",
    "processor = AutoImageProcessor.from_pretrained(repo)\n",
    "processor.to_dict()"
   ]
  },
  {
   "cell_type": "code",
   "execution_count": 3,
   "id": "73073c26",
   "metadata": {},
   "outputs": [],
   "source": [
    "mammo_preprocessor = MammogramPreprocessor((518, 518))"
   ]
  },
  {
   "cell_type": "code",
   "execution_count": 4,
   "id": "295adcd6",
   "metadata": {},
   "outputs": [
    {
     "name": "stdout",
     "output_type": "stream",
     "text": [
      "image size: (2048, 2048)\n"
     ]
    },
    {
     "data": {
      "image/png": "[encoded data removed]",
      "text/plain": [
       "<Figure size 640x480 with 1 Axes>"
      ]
     },
     "metadata": {},
     "output_type": "display_data"
    },
    {
     "name": "stdout",
     "output_type": "stream",
     "text": [
      "image size after processing: (1, 518, 518)\n",
      "image size after processing: torch.Size([1, 1, 518, 518])\n",
      "image size after processing: torch.Size([1, 3, 518, 518])\n"
     ]
    }
   ],
   "source": [
    "# Download and preprocess a chest X-ray\n",
    "original_image = Image.open(\"./data/jpegs/0039380963_l_cc.jpeg\")\n",
    "image = np.array(original_image.copy().convert(\"L\"))\n",
    "print(\"image size:\", image.shape)   # (width, height)\n",
    "image = mammo_preprocessor(image)\n",
    "processed_image = Image.fromarray((image.copy()*255).astype(np.uint8).squeeze())\n",
    "\n",
    "image = (image - .281) / .218\n",
    "\n",
    "\n",
    "sns.histplot(image.flatten(), stat=\"density\")\n",
    "plt.show()\n",
    "\n",
    "print(\"image size after processing:\", image.shape)   # (1, width, height)\n",
    "image = torch.from_numpy(image).unsqueeze(0)  # add batch dimension\n",
    "print(\"image size after processing:\", image.shape)   # (1, 1, width, height)\n",
    "image = image.repeat(1, 3, 1, 1)\n",
    "print(\"image size after processing:\", image.shape)   # (1, 3, width, height)"
   ]
  },
  {
   "cell_type": "code",
   "execution_count": 5,
   "id": "3b4b7a24",
   "metadata": {},
   "outputs": [
    {
     "data": {
      "text/plain": [
       "torch.Size([1, 768])"
      ]
     },
     "execution_count": 5,
     "metadata": {},
     "output_type": "execute_result"
    }
   ],
   "source": [
    "\n",
    "# Encode the image!\n",
    "with torch.inference_mode():\n",
    "    outputs = model(pixel_values=image)\n",
    "# Look at the CLS embeddings\n",
    "cls_embeddings = outputs.pooler_output\n",
    "cls_embeddings.shape  # (batch_size, num_channels)\n"
   ]
  },
  {
   "cell_type": "code",
   "execution_count": 6,
   "id": "64b7cbf2",
   "metadata": {},
   "outputs": [
    {
     "data": {
      "text/plain": [
       "torch.Size([1, 768, 37, 37])"
      ]
     },
     "execution_count": 6,
     "metadata": {},
     "output_type": "execute_result"
    }
   ],
   "source": [
    "def reshape_patch_embeddings(flat_tokens: torch.Tensor) -> torch.Tensor:\n",
    "    \"\"\"Reshape flat list of patch tokens into a nice grid.\"\"\"\n",
    "    from einops import rearrange\n",
    "    image_size = processor.crop_size[\"height\"]\n",
    "    patch_size = model.config.patch_size\n",
    "    embeddings_size = image_size // patch_size\n",
    "    patches_grid = rearrange(flat_tokens, \"b (h w) c -> b c h w\", h=embeddings_size)\n",
    "    return patches_grid\n",
    "flat_patch_embeddings = outputs.last_hidden_state[:, 1:]  # first token is CLS\n",
    "reshaped_patch_embeddings = reshape_patch_embeddings(flat_patch_embeddings)\n",
    "reshaped_patch_embeddings.shape  # (batch_size, num_channels, height, width)\n"
   ]
  },
  {
   "cell_type": "code",
   "execution_count": 7,
   "id": "8f95c565",
   "metadata": {},
   "outputs": [
    {
     "data": {
      "application/vnd.jupyter.widget-view+json": {
       "model_id": "579467cf157f45b691a3ff30e8f61c80",
       "version_major": 2,
       "version_minor": 0
      },
      "text/plain": [
       "interactive(children=(IntSlider(value=0, description='Channel:', layout=Layout(width='500px'), max=767, style=…"
      ]
     },
     "metadata": {},
     "output_type": "display_data"
    }
   ],
   "source": [
    "import matplotlib.pyplot as plt\n",
    "import seaborn as sns\n",
    "import ipywidgets as widgets\n",
    "from ipywidgets import interact\n",
    "import numpy as np\n",
    "\n",
    "\n",
    "def plot_embeddings_overlay(\n",
    "    embeddings: torch.Tensor, original_image: Image.Image\n",
    ") -> None:\n",
    "    \"\"\"Plot the patch embeddings overlaid on the original image with an interactive channel selector.\"\"\"\n",
    "    bs, c, h, w = embeddings.shape\n",
    "\n",
    "    # Convert the original image to numpy array and ensure grayscale\n",
    "    img_array = np.array(original_image.convert(\"L\"))\n",
    "\n",
    "    # Create a figure that persists between interactions\n",
    "    plt.ioff()  # Turn off interactive mode to avoid duplicate displays\n",
    "    fig, ax = plt.subplots(figsize=(8, 8))\n",
    "\n",
    "    def update_plot(channel, alpha=0.7):\n",
    "        ax.clear()\n",
    "\n",
    "        # Display the original image\n",
    "        ax.imshow(img_array, cmap=\"gray\", alpha=1.0)\n",
    "\n",
    "        # Overlay the feature map with transparency\n",
    "        feature_map = embeddings[0, channel].cpu().numpy()\n",
    "\n",
    "        # Resize feature map to match image dimensions using nearest neighbor interpolation\n",
    "        # for visualization purposes\n",
    "        im = ax.imshow(\n",
    "            feature_map,\n",
    "            cmap=\"plasma\",\n",
    "            alpha=alpha,\n",
    "            interpolation=\"bicubic\",\n",
    "            extent=(0, img_array.shape[1], img_array.shape[0], 0),\n",
    "        )\n",
    "\n",
    "        ax.set_title(f\"Channel {channel} Overlay\")\n",
    "        ax.axis(\"off\")\n",
    "\n",
    "        # Add colorbar\n",
    "        if not hasattr(update_plot, \"cbar\"):\n",
    "            update_plot.cbar = plt.colorbar(im, ax=ax, fraction=0.046, pad=0.04)\n",
    "        else:\n",
    "            update_plot.cbar.update_normal(im)\n",
    "\n",
    "        fig.canvas.draw_idle()\n",
    "        return fig\n",
    "\n",
    "    # Create interactive widgets\n",
    "    channel_slider = widgets.IntSlider(\n",
    "        min=0,\n",
    "        max=c - 1,\n",
    "        step=1,\n",
    "        value=0,\n",
    "        description=\"Channel:\",\n",
    "        style={\"description_width\": \"initial\"},\n",
    "        layout={\"width\": \"500px\"},\n",
    "    )\n",
    "\n",
    "    alpha_slider = widgets.FloatSlider(\n",
    "        min=0.1,\n",
    "        max=1.0,\n",
    "        step=0.05,\n",
    "        value=0.7,\n",
    "        description=\"Opacity:\",\n",
    "        style={\"description_width\": \"initial\"},\n",
    "        layout={\"width\": \"500px\"},\n",
    "    )\n",
    "\n",
    "    # Create interactive plot\n",
    "    interact(update_plot, channel=channel_slider, alpha=alpha_slider)\n",
    "    plt.tight_layout()\n",
    "\n",
    "\n",
    "# Use the enhanced interactive function with original image\n",
    "plot_embeddings_overlay(reshaped_patch_embeddings, processed_image)"
   ]
  },
  {
   "cell_type": "code",
   "execution_count": null,
   "id": "283e85fa",
   "metadata": {},
   "outputs": [],
   "source": []
  }
 ],
 "metadata": {
  "kernelspec": {
   "display_name": "base",
   "language": "python",
   "name": "python3"
  },
  "language_info": {
   "codemirror_mode": {
    "name": "ipython",
    "version": 3
   },
   "file_extension": ".py",
   "mimetype": "text/x-python",
   "name": "python",
   "nbconvert_exporter": "python",
   "pygments_lexer": "ipython3",
   "version": "3.11.8"
  }
 },
 "nbformat": 4,
 "nbformat_minor": 5
}
