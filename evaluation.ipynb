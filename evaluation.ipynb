{
 "cells": [
  {
   "cell_type": "code",
   "execution_count": 1,
   "id": "2d3a9471",
   "metadata": {},
   "outputs": [],
   "source": [
    "from custom import MammoCLIP, MammoCLIPConfig, MammogramDataset, Config, MammogramPreprocessor, MammogramTransform\n",
    "from transformers import BertTokenizerFast\n",
    "from utils import evaluate_birads\n",
    "import pandas as pd\n",
    "import matplotlib.pyplot as plt\n",
    "import seaborn as sns\n",
    "import numpy as np"
   ]
  },
  {
   "cell_type": "code",
   "execution_count": 2,
   "id": "7ab71f81",
   "metadata": {},
   "outputs": [],
   "source": [
    "cfg = Config.from_yaml(\"./mammoclip-v1/config.yaml\")"
   ]
  },
  {
   "cell_type": "code",
   "execution_count": 5,
   "id": "fc19aa2e",
   "metadata": {},
   "outputs": [
    {
     "name": "stderr",
     "output_type": "stream",
     "text": [
      "You are using a model of type mammo_clip to instantiate a model of type vision-text-dual-encoder. This is not supported for all configurations of models and can yield errors.\n"
     ]
    }
   ],
   "source": [
    "model = MammoCLIP.from_pretrained(\"./mammoclip-v1/model_030\")"
   ]
  },
  {
   "cell_type": "code",
   "execution_count": 3,
   "id": "2f716268",
   "metadata": {},
   "outputs": [
    {
     "data": {
      "text/plain": [
       "Config:\n",
       "  project_dir: ./mammoclip-v1\n",
       "  seed: 42\n",
       "  csv_path: ./data/complete-mammo.csv\n",
       "  freeze_vision_model: True\n",
       "  freeze_text_model: True\n",
       "  training_params:\n",
       "    num_epochs: 300\n",
       "    train_fraction: 0.8\n",
       "    batch_size: 256\n",
       "    lr_max: 0.0001\n",
       "    lr_min: 5e-07\n",
       "    lr_scheduler: wsd_schedule\n",
       "    warmup_fraction: 0.05\n",
       "    steady_fraction: 0.25\n",
       "    gradient_accumulation_steps: 1\n",
       "    max_grad_norm: 1.0\n",
       "    weight_decay: 1e-06\n",
       "    mixed_precision: bf16\n",
       "  dl_workers:\n",
       "    train: 2\n",
       "    val: 2\n",
       "  train_ds:\n",
       "    class_: MammogramDataset\n",
       "    attrs_:\n",
       "      alt_text_cols:\n",
       "        - aug_report\n",
       "      alt_text_prob: 0.5\n",
       "      cache_dir: .cache\n",
       "      image_cols:\n",
       "        - r_cc\n",
       "        - l_cc\n",
       "        - r_mlo\n",
       "        - l_mlo\n",
       "      image_preprocessor:\n",
       "        attrs_:\n",
       "          extract_largest_cc: True\n",
       "          output_size:\n",
       "            - 518\n",
       "            - 518\n",
       "          use_clahe: True\n",
       "        class_: MammogramPreprocessor\n",
       "      path_to_df: ./mammoclip-v1/train.csv\n",
       "      pid_col: id\n",
       "      text_col: report\n",
       "      tokenizer: microsoft/BiomedVLP-CXR-BERT-general\n",
       "      tokenizer_kwargs:\n",
       "        max_length: 256\n",
       "        padding: max_length\n",
       "        return_tensors: pt\n",
       "        truncation: True\n",
       "      transform_function:\n",
       "        attrs_:\n",
       "          degrees: 15\n",
       "          is_validation: False\n",
       "          mean:\n",
       "            - 0.281\n",
       "          noise_std:\n",
       "            - 0.0\n",
       "            - 0.02\n",
       "          scale:\n",
       "            - 0.9\n",
       "            - 1.1\n",
       "          shear:\n",
       "            - 10\n",
       "            - 10\n",
       "          size:\n",
       "            - 518\n",
       "            - 518\n",
       "          std:\n",
       "            - 0.217\n",
       "          translate:\n",
       "            - 0.05\n",
       "            - 0.05\n",
       "        class_: MammogramTransform\n",
       "      weights_col: weight\n",
       "  val_ds:\n",
       "    class_: MammogramDataset\n",
       "    attrs_:\n",
       "      alt_text_prob: 0.0\n",
       "      cache_dir: .cache\n",
       "      image_cols:\n",
       "        - r_cc\n",
       "        - l_cc\n",
       "        - r_mlo\n",
       "        - l_mlo\n",
       "      image_preprocessor:\n",
       "        attrs_:\n",
       "          extract_largest_cc: True\n",
       "          output_size:\n",
       "            - 518\n",
       "            - 518\n",
       "          use_clahe: True\n",
       "        class_: MammogramPreprocessor\n",
       "      path_to_df: ./mammoclip-v1/val.csv\n",
       "      pid_col: id\n",
       "      text_col: report\n",
       "      tokenizer: microsoft/BiomedVLP-CXR-BERT-general\n",
       "      tokenizer_kwargs:\n",
       "        max_length: 256\n",
       "        padding: max_length\n",
       "        return_tensors: pt\n",
       "        truncation: True\n",
       "      transform_function:\n",
       "        attrs_:\n",
       "          degrees: 10\n",
       "          is_validation: True\n",
       "          mean:\n",
       "            - 0.281\n",
       "          noise_std:\n",
       "            - 0.0\n",
       "            - 0.02\n",
       "          scale:\n",
       "            - 0.9\n",
       "            - 1.1\n",
       "          shear:\n",
       "            - 20\n",
       "            - 20\n",
       "          size:\n",
       "            - 518\n",
       "            - 518\n",
       "          std:\n",
       "            - 0.217\n",
       "          translate:\n",
       "            - 0.05\n",
       "            - 0.05\n",
       "        class_: MammogramTransform\n",
       "  eval_interval: 5\n",
       "  save_interval: 5\n",
       "  max_checkpoints: 5\n",
       "  pretrained_model_cfg:\n",
       "    vision_model_name_or_path: microsoft/rad-dino\n",
       "    text_model_name_or_path: microsoft/BiomedVLP-CXR-BERT-general\n",
       "    num_views: 4\n",
       "    fusion_type: linear\n",
       "    verbose: False"
      ]
     },
     "execution_count": 3,
     "metadata": {},
     "output_type": "execute_result"
    }
   ],
   "source": [
    "cfg"
   ]
  },
  {
   "cell_type": "code",
   "execution_count": 5,
   "id": "26290b78",
   "metadata": {},
   "outputs": [],
   "source": [
    "dataset = MammogramDataset(\n",
    "    pid_col=\"id\",\n",
    "    text_col=\"report\",\n",
    "    cache_dir=\"./.cache\",\n",
    "    image_cols=[\"r_cc\", \"l_cc\", \"r_mlo\", \"l_mlo\"],\n",
    "    image_preprocessor=MammogramPreprocessor(**ds_cfg[\"attrs_\"][\"image_preprocessor\"][\"attrs_\"]),\n",
    "    transform_function=MammogramTransform(**ds_cfg[\"attrs_\"][\"transform_function\"][\"attrs_\"]),\n",
    "    df=pd.read_csv(\"./data/complete-mammo.csv\").iloc[0:5000],\n",
    "    tokenizer=BertTokenizerFast.from_pretrained(\"microsoft/BiomedVLP-CXR-BERT-general\"),\n",
    "    tokenizer_kwargs={'max_length': 256,\n",
    "   'padding': 'max_length',\n",
    "   'return_tensors': 'pt',\n",
    "   'truncation': True},\n",
    ")"
   ]
  },
  {
   "cell_type": "code",
   "execution_count": 6,
   "id": "6bca23cd",
   "metadata": {},
   "outputs": [
    {
     "data": {
      "application/vnd.jupyter.widget-view+json": {
       "model_id": "8b6efbf61e624477b90b54fed77961e9",
       "version_major": 2,
       "version_minor": 0
      },
      "text/plain": [
       "Evaluating:   0%|          | 0/11 [00:00<?, ?it/s]"
      ]
     },
     "metadata": {},
     "output_type": "display_data"
    }
   ],
   "source": [
    "results = evaluate_birads(\n",
    "    model=model.cuda().eval(),\n",
    "    dataset=dataset,\n",
    "    batch_size=64,\n",
    "    device=\"cuda\",\n",
    ")"
   ]
  },
  {
   "cell_type": "code",
   "execution_count": 7,
   "id": "9d8d0144",
   "metadata": {},
   "outputs": [
    {
     "data": {
      "text/plain": [
       "dict_keys(['accuracy', 'precision', 'recall', 'f1', 'confusion_matrix'])"
      ]
     },
     "execution_count": 7,
     "metadata": {},
     "output_type": "execute_result"
    }
   ],
   "source": [
    "results.keys()"
   ]
  },
  {
   "cell_type": "code",
   "execution_count": 15,
   "id": "2f2c9d5d",
   "metadata": {},
   "outputs": [
    {
     "data": {
      "image/png": "[encoded data removed]",
      "text/plain": [
       "<Figure size 600x600 with 2 Axes>"
      ]
     },
     "metadata": {},
     "output_type": "display_data"
    }
   ],
   "source": [
    "# plot the cm\n",
    "cm = results[\"confusion_matrix\"]\n",
    "plt.figure(figsize=(6, 6))\n",
    "sns.heatmap(cm, annot=True, fmt=\",\", cmap='Blues')\n",
    "plt.tight_layout()\n",
    "plt.xlabel(\"Predicted\")\n",
    "plt.ylabel(\"True\")\n",
    "plt.title(\"Confusion Matrix Normalized\")\n",
    "plt.show()"
   ]
  }
 ],
 "metadata": {
  "kernelspec": {
   "display_name": "base",
   "language": "python",
   "name": "python3"
  },
  "language_info": {
   "codemirror_mode": {
    "name": "ipython",
    "version": 3
   },
   "file_extension": ".py",
   "mimetype": "text/x-python",
   "name": "python",
   "nbconvert_exporter": "python",
   "pygments_lexer": "ipython3",
   "version": "3.12.7"
  }
 },
 "nbformat": 4,
 "nbformat_minor": 5
}
